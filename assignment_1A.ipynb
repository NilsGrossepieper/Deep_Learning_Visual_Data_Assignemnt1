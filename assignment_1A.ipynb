{
  "cells": [
    {
      "cell_type": "markdown",
      "metadata": {
        "id": "view-in-github",
        "colab_type": "text"
      },
      "source": [
        "<a href=\"https://colab.research.google.com/github/NilsGrossepieper/Deep_Learning_Visual_Data_Assignemnt1/blob/main/assignment_1A.ipynb\" target=\"_parent\"><img src=\"https://colab.research.google.com/assets/colab-badge.svg\" alt=\"Open In Colab\"/></a>"
      ]
    },
    {
      "cell_type": "markdown",
      "metadata": {
        "id": "cGmGhEhc-9tv"
      },
      "source": [
        "# PyTorch Tensors\n",
        "\n",
        "In order to get anything done with deep learning, we need some way to store and manipulate data. \n",
        "Therefore, to start, we develop proficiency with the n-dimensional array in PyTorch, which is also called the tensor."
      ]
    },
    {
      "cell_type": "code",
      "execution_count": 1,
      "metadata": {
        "id": "ditQAfhTXy3l"
      },
      "outputs": [],
      "source": [
        "# I import all necessary packages at the beginning\n",
        "import torch\n",
        "import numpy as np\n",
        "import math\n",
        "import time"
      ]
    },
    {
      "cell_type": "markdown",
      "metadata": {
        "id": "hDOSz3QVaSbe"
      },
      "source": [
        "### Exercise 1A:\n",
        "Create in the next code cell a 32-bit floating point torch Tensor of shape `(4,5)` which is filled with square root of 29."
      ]
    },
    {
      "cell_type": "code",
      "execution_count": 3,
      "metadata": {
        "id": "PTTRn9HFeG9U",
        "colab": {
          "base_uri": "https://localhost:8080/"
        },
        "outputId": "0203929b-37b2-4b15-bc4f-0755043923ea"
      },
      "outputs": [
        {
          "output_type": "stream",
          "name": "stdout",
          "text": [
            "tensor([[5.3852, 5.3852, 5.3852, 5.3852, 5.3852],\n",
            "        [5.3852, 5.3852, 5.3852, 5.3852, 5.3852],\n",
            "        [5.3852, 5.3852, 5.3852, 5.3852, 5.3852],\n",
            "        [5.3852, 5.3852, 5.3852, 5.3852, 5.3852]]) torch.float32\n"
          ]
        }
      ],
      "source": [
        "# First I create the tensor and its shape, in the next steps I addapt the tensor \n",
        "# to the task\n",
        "torch_1 = torch.ones((4, 5))\n",
        "torch_1[:, :] = math.sqrt(29)\n",
        "torch_1 = torch_1.to(torch.float32)\n",
        "\n",
        "print(torch_1, torch_1.dtype)"
      ]
    },
    {
      "cell_type": "markdown",
      "metadata": {
        "id": "cxQKhClJ427n"
      },
      "source": [
        "### Exercise 1B:\n",
        "\n",
        "Convert the tensor created in the previous exercise to 64-bit floating point."
      ]
    },
    {
      "cell_type": "code",
      "execution_count": 4,
      "metadata": {
        "id": "gTnfu78t5OTJ",
        "colab": {
          "base_uri": "https://localhost:8080/"
        },
        "outputId": "26f78b44-2f22-4110-a9d1-3a1fdb96827d"
      },
      "outputs": [
        {
          "output_type": "stream",
          "name": "stdout",
          "text": [
            "torch.float64\n"
          ]
        }
      ],
      "source": [
        "# Change the data type\n",
        "torch_1 = torch_1.to(torch.float64)\n",
        "\n",
        "print(torch_1.dtype)"
      ]
    },
    {
      "cell_type": "markdown",
      "metadata": {
        "id": "M1Teyrxoa-bl"
      },
      "source": [
        "### Exercise 2:\n",
        "Create a tensor `x` (you can give it the shape you want) such that its elements are sampled from a normal distribution of mean 3 and variance 2.\n",
        "\n",
        "Next, create a tensor `y` having the same shape as `x` such that its elements are sampled from a uniform distribution between -1 and 2. Your code should be robust to the shape of `x` such that if you change the shape of `t`, the shape of your `y` should adapt!"
      ]
    },
    {
      "cell_type": "code",
      "execution_count": 5,
      "metadata": {
        "id": "IQVraHuJa9yJ",
        "colab": {
          "base_uri": "https://localhost:8080/"
        },
        "outputId": "af2093c9-abf1-4ccb-a338-3c0f3fe18ac6"
      },
      "outputs": [
        {
          "output_type": "stream",
          "name": "stdout",
          "text": [
            "tensor([[ 4.9835, -0.4731, 10.3874, -0.4784],\n",
            "        [ 3.0971, -1.1771,  1.5018,  0.7546],\n",
            "        [-5.9984,  8.2377,  2.3251,  4.7238]])\n",
            "tensor([[ 0.5028,  0.8241,  1.4418,  0.0521],\n",
            "        [ 1.6947, -0.7050, -0.9953,  0.8757],\n",
            "        [-0.2466,  1.8597,  1.5971, -0.0789]])\n"
          ]
        }
      ],
      "source": [
        "# First I set up the shape for x and y, the I create x and y respectively \n",
        "x_shape = (3, 4)\n",
        "x = torch.normal(mean = 3, std = 4, size = x_shape)\n",
        "# since std^2=var and 2^2=4 I can also write the distribution this way\n",
        "y = torch.empty_like(x).uniform_(-1, 2)\n",
        "\n",
        "print(x)\n",
        "print(y)"
      ]
    },
    {
      "cell_type": "markdown",
      "metadata": {
        "id": "tEdNH8f_aMaq"
      },
      "source": [
        "### Exercise 3:\n",
        "\n",
        "Run `A / A.sum(axis=1)` for the following tensor A and see what happens. Can you analyze the reason? Create a text cell to provide your answer."
      ]
    },
    {
      "cell_type": "code",
      "execution_count": 6,
      "metadata": {
        "id": "NkW8P7eRaU_G",
        "colab": {
          "base_uri": "https://localhost:8080/"
        },
        "outputId": "3025dcda-3345-4a92-802e-294adb34df0a"
      },
      "outputs": [
        {
          "output_type": "stream",
          "name": "stdout",
          "text": [
            "tensor([[ 0.,  1.,  2.,  3.,  4.],\n",
            "        [ 5.,  6.,  7.,  8.,  9.],\n",
            "        [10., 11., 12., 13., 14.],\n",
            "        [15., 16., 17., 18., 19.]]) torch.Size([4, 5])\n",
            "tensor([10., 35., 60., 85.]) torch.Size([4])\n",
            "tensor([[10.],\n",
            "        [35.],\n",
            "        [60.],\n",
            "        [85.]]) torch.Size([4])\n"
          ]
        }
      ],
      "source": [
        "A = torch.arange(20, dtype=torch.float32).reshape(4, 5)\n",
        "\n",
        "# First I take a look at A, A.sum(axis=1) and A / A.sum(axis=1)\n",
        "B = A.sum(axis=1)\n",
        "print(A, A.shape)\n",
        "print(B, B.shape)\n",
        "print(B.reshape(4, 1), B.shape)\n",
        "#print(A / B)"
      ]
    },
    {
      "cell_type": "markdown",
      "source": [
        "When you run the last line of code you get the following error message: \"The size of tensor a (5) must match the size of tensor b (4) at non-singleton dimension 1\" The proble is that the tensor A is a two dimensional tensor, while the tensor B (A.sum(axis=1)) is only a single dimensional tensor. Since this dimension is not a singleton dimension (size greater than 1), the tensors can not be broadcasted to match their sizes for this dimension. Since the two tensors have not the same dimensions we can not perform the computation A / A.sum(axis=1)."
      ],
      "metadata": {
        "id": "xaB4EEqnabyn"
      }
    },
    {
      "cell_type": "markdown",
      "metadata": {
        "id": "d3_3bYqPbl16"
      },
      "source": [
        "### Exercise 4:\n",
        "\n",
        "As with an ordinary Python array, we can access the length of a tensor by calling Python’s built-in `len()` function."
      ]
    },
    {
      "cell_type": "code",
      "execution_count": 7,
      "metadata": {
        "id": "f374NfPgbfx2",
        "colab": {
          "base_uri": "https://localhost:8080/"
        },
        "outputId": "6e1b615d-d016-4b97-bcce-8296ada71dfb"
      },
      "outputs": [
        {
          "output_type": "execute_result",
          "data": {
            "text/plain": [
              "4"
            ]
          },
          "metadata": {},
          "execution_count": 7
        }
      ],
      "source": [
        "x = torch.arange(4)\n",
        "len(x)"
      ]
    },
    {
      "cell_type": "markdown",
      "metadata": {
        "id": "VbleR1jrbFqW"
      },
      "source": [
        "We now define a tensor `X` of shape `(2, 3, 4)` . What is the output of `len(X)`? Can you analyse the reason for the output? Create a text cell to provide your answer."
      ]
    },
    {
      "cell_type": "code",
      "execution_count": 8,
      "metadata": {
        "id": "sa_dP5PSa1fX",
        "colab": {
          "base_uri": "https://localhost:8080/"
        },
        "outputId": "774caab8-1ad9-4778-ebf8-5f8ec1b2225b"
      },
      "outputs": [
        {
          "output_type": "execute_result",
          "data": {
            "text/plain": [
              "2"
            ]
          },
          "metadata": {},
          "execution_count": 8
        }
      ],
      "source": [
        "X = torch.arange(24).reshape(2, 3, 4)\n",
        "len(X)"
      ]
    },
    {
      "cell_type": "markdown",
      "source": [
        "The length of a tensor refers to the number of elements in the first dimension. In this case our tensor has 2 elements in the first dimension, therefore we get the result for len(x) as 2. The length of a tensor only refers to its first element, on the otherside you have the size of the tensor which is in our case 2*3*4=24."
      ],
      "metadata": {
        "id": "gZa5bzjKDg_J"
      }
    },
    {
      "cell_type": "markdown",
      "metadata": {
        "id": "PemQ00mUdp9Q"
      },
      "source": [
        "### Exercise 5:\n",
        "\n",
        "We have seen examples of PyTorch `Tensor` broadcasting."
      ]
    },
    {
      "cell_type": "code",
      "execution_count": 13,
      "metadata": {
        "id": "s546kHtZd8Et",
        "colab": {
          "base_uri": "https://localhost:8080/"
        },
        "outputId": "64101571-3a31-4fcd-b7cb-b40e2afbd961"
      },
      "outputs": [
        {
          "output_type": "stream",
          "name": "stdout",
          "text": [
            "tensor([[0],\n",
            "        [1],\n",
            "        [2]]) tensor([0, 1, 2, 3, 4])\n"
          ]
        }
      ],
      "source": [
        "a = torch.arange(3).reshape((3, 1))\n",
        "b = torch.arange(5)\n",
        "a.shape, b.shape\n",
        "print(a, b)"
      ]
    },
    {
      "cell_type": "code",
      "execution_count": 10,
      "metadata": {
        "id": "_VlSi8gkd-Jc",
        "colab": {
          "base_uri": "https://localhost:8080/"
        },
        "outputId": "4a8dab6f-a532-44eb-9dff-8972e636b87a"
      },
      "outputs": [
        {
          "output_type": "execute_result",
          "data": {
            "text/plain": [
              "tensor([[0, 1, 2, 3, 4],\n",
              "        [1, 2, 3, 4, 5],\n",
              "        [2, 3, 4, 5, 6]])"
            ]
          },
          "metadata": {},
          "execution_count": 10
        }
      ],
      "source": [
        "a + b\n"
      ]
    },
    {
      "cell_type": "markdown",
      "metadata": {
        "id": "TePM4O49eFWI"
      },
      "source": [
        "Replace the two tensors in the broadcasting mechanism with different shapes of 3 or 4-dimensional tensors. For example `a = torch.empty(5,2,4,1)`,\n",
        "`b = torch.empty(3,1,1)`. Is the result the same as expected? Analyse the results. Come up with 3D or 4D tensors with different sizes at each dimension. Can you come up with the rules with examples which are required for Tensor broadcasting to work? Creat a text block to provide your analysis."
      ]
    },
    {
      "cell_type": "code",
      "source": [
        "a = torch.empty(5,2,4,1)\n",
        "b = torch.empty(3,1,1)\n",
        "# a + b\n",
        "# The size of tensor a (3) must match the size of tensor b (2) at non-singleton dimension 1"
      ],
      "metadata": {
        "id": "C-XM1mm9Epqs"
      },
      "execution_count": 18,
      "outputs": []
    },
    {
      "cell_type": "markdown",
      "source": [
        "The result of the addition of a+b is an error message. When you check the \n",
        "three rules of tensor broadcasting:\n",
        "1.) When you have two tensors with the same amount of dimensions, then the magnitudes of every dimension has to be the same or it has to be one in at least one of the two tensors. The tensors (2, 1, 3) and (1, 2, 3) can be extended, but the tensors (2, 3, 3) and (3, 3, 3) can not be extended, althoug they differ only in one dimension.\n"
      ],
      "metadata": {
        "id": "1973eo3GHgrr"
      }
    },
    {
      "cell_type": "code",
      "source": [
        "# 1.) Rule\n",
        "t1_r1 = torch.rand(2, 1, 3)\n",
        "t2_r1 = torch.rand(1, 2, 3)\n",
        "t3_r1 = torch.rand(2, 3, 3)\n",
        "t4_r1 = torch.rand(3, 3, 3)\n",
        "\n",
        "t1_r1 + t2_r1\n",
        "# t3_r1 + t4_r1\n",
        "# The size of tensor a (2) must match the size of tensor b (3) at non-singleton dimension 0\n",
        "\n",
        "# This combination is also possible: \n",
        "# t1_r1 + t3_r1"
      ],
      "metadata": {
        "colab": {
          "base_uri": "https://localhost:8080/"
        },
        "id": "I-3glB9FKdPC",
        "outputId": "29de64d5-ab24-42f1-ffa8-7cfa88fb769f"
      },
      "execution_count": 25,
      "outputs": [
        {
          "output_type": "execute_result",
          "data": {
            "text/plain": [
              "tensor([[[1.8233, 0.5906, 1.5284],\n",
              "         [1.3999, 1.1374, 0.9272]],\n",
              "\n",
              "        [[1.4759, 1.3253, 1.6225],\n",
              "         [1.0525, 1.8721, 1.0214]]])"
            ]
          },
          "metadata": {},
          "execution_count": 25
        }
      ]
    },
    {
      "cell_type": "markdown",
      "source": [
        "2.) When two tensors have different numbers of dimensions, then the tensor with fewer dimensions is expanded with the size of 1 to increase the number of dimensions to the same number as the biger tensor.For exaple the the tensors (2, 3, 4) and (3, 4)  can be expanded by one dimension each so they become the tensors (2, 3, 4) and (2, 3, 4), now we can add up the tow tensors."
      ],
      "metadata": {
        "id": "ErNWwWWYKjON"
      }
    },
    {
      "cell_type": "code",
      "source": [
        "# 2.) Rule\n",
        "t1_r2 = torch.rand(2, 3, 4)\n",
        "t2_r2 = torch.rand(3, 4)\n",
        "\n",
        "t1_r2 + t2_r2"
      ],
      "metadata": {
        "colab": {
          "base_uri": "https://localhost:8080/"
        },
        "id": "BZDYtwrQL3Rh",
        "outputId": "eaac7026-8d10-4e4c-a240-6684bc0cb6f9"
      },
      "execution_count": 29,
      "outputs": [
        {
          "output_type": "execute_result",
          "data": {
            "text/plain": [
              "tensor([[[0.6649, 0.1270, 1.0429, 1.0578],\n",
              "         [0.3194, 0.6358, 1.4738, 1.0825],\n",
              "         [1.2836, 1.7177, 0.5339, 0.5739]],\n",
              "\n",
              "        [[1.0105, 0.6606, 0.8160, 0.6970],\n",
              "         [0.6153, 0.8486, 1.6391, 1.5924],\n",
              "         [1.2697, 1.6665, 0.9185, 1.4700]]])"
            ]
          },
          "metadata": {},
          "execution_count": 29
        }
      ]
    },
    {
      "cell_type": "markdown",
      "source": [
        "3.) When a tensor of size 1 is in a certain dimension, it can get expanded along its dimensions to the size of the other tensor. This example is similar to the first one, the tensors (2, 1, 4) and (2, 2, 4) can be combined when the first tensor gets expanded t0 (2, 2, 4)."
      ],
      "metadata": {
        "id": "-bOnYvu-MBrK"
      }
    },
    {
      "cell_type": "code",
      "source": [
        "# 3.) Rule\n",
        "t1_r3 = torch.rand(2, 1, 4)\n",
        "t2_r3 = torch.rand(2, 2, 4)\n",
        "\n",
        "t1_r3 + t2_r3"
      ],
      "metadata": {
        "colab": {
          "base_uri": "https://localhost:8080/"
        },
        "id": "pEAWFpfCMJPQ",
        "outputId": "137ba17f-c4f6-4428-e20d-2a0a2f632906"
      },
      "execution_count": 30,
      "outputs": [
        {
          "output_type": "execute_result",
          "data": {
            "text/plain": [
              "tensor([[[0.3852, 1.6624, 0.4776, 0.7947],\n",
              "         [0.5495, 1.8784, 0.4870, 1.6467]],\n",
              "\n",
              "        [[1.6537, 0.6327, 1.0769, 1.5386],\n",
              "         [1.0112, 0.8061, 0.1340, 0.8134]]])"
            ]
          },
          "metadata": {},
          "execution_count": 30
        }
      ]
    },
    {
      "cell_type": "markdown",
      "metadata": {
        "id": "pOJzmeyQj_Y-"
      },
      "source": [
        "### Exercise 6:\n",
        "\n",
        "Create a one dimensional tensor `x` containing the numbers `0` to `23` in order.\n",
        "Reshape x in the next code cell to create the following tensor:\n",
        "\n",
        "```\n",
        "tensor([[ 0,  1,  2,  3, 12, 13, 14, 15],\n",
        "             [ 4,  5,  6,  7, 16, 17, 18, 19],\n",
        "             [ 8,  9, 10, 11, 20, 21, 22, 23]])\n",
        "```\n",
        "\n",
        "\n",
        "\n"
      ]
    },
    {
      "cell_type": "code",
      "execution_count": 40,
      "metadata": {
        "id": "jSKEKVJWk7qG",
        "colab": {
          "base_uri": "https://localhost:8080/"
        },
        "outputId": "37e11eb2-5605-458d-9e93-e72c2c90858d"
      },
      "outputs": [
        {
          "output_type": "stream",
          "name": "stdout",
          "text": [
            "torch.Size([24])\n",
            "tensor([[ 0,  1,  2,  3,  4,  5,  6,  7],\n",
            "        [ 8,  9, 10, 11, 12, 13, 14, 15],\n",
            "        [16, 17, 18, 19, 20, 21, 22, 23]])\n"
          ]
        }
      ],
      "source": [
        "# Create a one dimensional tensor with the number 0 to 23 and reshape the tensor\n",
        "tensor_6 = torch.arange(24)\n",
        "print(tensor_6.shape)\n",
        "tensor_6 = tensor_6.reshape(3, -1)\n",
        "\n",
        "print(tensor_6)"
      ]
    },
    {
      "cell_type": "markdown",
      "metadata": {
        "id": "pAwL3IAdmIze"
      },
      "source": [
        "### Exercise 7:\n",
        "\n",
        "A one-hot vector for an integer $n$ is a vector that has a one in its $n$th slot, and zeros in all other slots. One-hot vectors are used to represent categorical variables in machine learning.\n",
        "\n",
        "Implement a function in the following code cell that creates a 2D PyTorch tensor of one-hot row vectors from a list of Python integers.\n",
        "\n",
        "For example, given a list `[1, 2, 3, 3]` of integers, your function should produce the 2D tensor:\n",
        "\n",
        "```\n",
        "[[0 1 0 0],\n",
        " [0 0 1 0],\n",
        " [0 0 0 1],\n",
        " [0 0 0 1]]\n",
        "```\n",
        "\n"
      ]
    },
    {
      "cell_type": "code",
      "execution_count": 64,
      "metadata": {
        "id": "HhOt0ZBLm7Ul",
        "colab": {
          "base_uri": "https://localhost:8080/"
        },
        "outputId": "8065f34c-03ce-48e1-e764-631cce0dbd42"
      },
      "outputs": [
        {
          "output_type": "stream",
          "name": "stdout",
          "text": [
            "tensor([[0, 1, 0, 0],\n",
            "        [0, 0, 1, 0],\n",
            "        [0, 0, 0, 1],\n",
            "        [0, 0, 0, 1]])\n"
          ]
        }
      ],
      "source": [
        "def one_hot_vector(x):\n",
        "  # Get the shape of the tensor\n",
        "  x_dimension = len(x)\n",
        "  y_dimension = max(x)\n",
        "  raw_tensor = torch.zeros((x_dimension, y_dimension + 1)) \n",
        "\n",
        "  # Implement the 1s into the right postion\n",
        "  for i in range(0, len(x)):\n",
        "    raw_tensor[i, x[i]] = 1\n",
        "  \n",
        "  # In the example it looks like that we only have integers in our tensor so \n",
        "  # I change the data type to int64\n",
        "  final_tensor = raw_tensor.to(torch.int64)\n",
        "\n",
        "  return(final_tensor)\n",
        "\n",
        "# test your function \n",
        "x = [1, 2, 3, 3]\n",
        "print(one_hot_vector(x))"
      ]
    },
    {
      "cell_type": "markdown",
      "metadata": {
        "id": "C1rvW5Groxjk"
      },
      "source": [
        "### Exercise 8:\n",
        "\n",
        "Use the GPU to accelerate multiplication of the following large 2D PyTorch tensors. First perform the multiplication on CPU. Next perform the computation on GPU. Compare the time required for mulplication on CPU vs GPU."
      ]
    },
    {
      "cell_type": "code",
      "execution_count": 73,
      "metadata": {
        "id": "htsK3scgpI2o",
        "colab": {
          "base_uri": "https://localhost:8080/"
        },
        "outputId": "04231068-dd3b-4344-bc04-2efe02e00128"
      },
      "outputs": [
        {
          "output_type": "stream",
          "name": "stdout",
          "text": [
            "x device: cpu\n",
            "y device: cpu\n",
            "y device: cuda:0\n",
            "y device: cuda:0\n",
            "1.044862985610962\n",
            "0.17665576934814453\n"
          ]
        }
      ],
      "source": [
        "x = torch.rand(1024, 4096)\n",
        "y = torch.rand(4096, 8192)\n",
        "\n",
        "# Get the device\n",
        "print('x device:', x.device)\n",
        "print('y device:', y.device)\n",
        "\n",
        "# 1. Do the multiplication on the CPU:\n",
        "start_cpu = time.time()\n",
        "cpu_result= torch.mm(x, y)\n",
        "end_cpu = time.time()\n",
        "duration_cpu = end_cpu - start_cpu\n",
        "\n",
        "# Change the device\n",
        "device = torch.device(\"cuda\" if torch.cuda.is_available() else \"cpu\")\n",
        "x_gpu = x.to(device)\n",
        "y_gpu = y.to(device)\n",
        "print('y device:', x_gpu.device)\n",
        "print('y device:', y_gpu.device)\n",
        "\n",
        "# 2. Do the multiplication on the GPU:\n",
        "start_gpu = time.time()\n",
        "gpu_result= torch.mm(x_gpu, y_gpu)\n",
        "gpu_result = gpu_result.to(\"cpu\")\n",
        "end_gpu = time.time()\n",
        "duration_gpu = end_gpu - start_gpu\n",
        "\n",
        "# The result for CPU multiplication:\n",
        "print(duration_cpu)\n",
        "\n",
        "# The result for GPU multiplication:\n",
        "print(duration_gpu)\n",
        "\n",
        "# The GPU calculation is faster than the CPU calculation."
      ]
    },
    {
      "cell_type": "markdown",
      "metadata": {
        "id": "w-8RSk8_rCAF"
      },
      "source": [
        "### Exercise 9: \n",
        "\n",
        "Create a function to compute the number of negative values in a tensor.\n",
        "Your code should not use any loops. After implementing the function, test your function with input PyTorch tensors of different shapes."
      ]
    },
    {
      "cell_type": "code",
      "execution_count": 83,
      "metadata": {
        "id": "ATNJZuj8rZO3",
        "colab": {
          "base_uri": "https://localhost:8080/"
        },
        "outputId": "bd3c4bf5-d835-4506-c76e-abb96e6c5d3d"
      },
      "outputs": [
        {
          "output_type": "stream",
          "name": "stdout",
          "text": [
            "0\n",
            "2\n",
            "0\n",
            "12\n"
          ]
        }
      ],
      "source": [
        "def negative_value_count(x):\n",
        "  # Count the negative values \n",
        "  n_neg_values = torch.sum(x < 0).item()\n",
        "  return(n_neg_values)\n",
        "\n",
        "test_1 = torch.arange(8)\n",
        "test_2 = torch.arange(-2, 4)\n",
        "test_3 = torch.ones(3,4)\n",
        "test_4 = torch.full((3, 4), -1)\n",
        "\n",
        "# All the tests give me the correct answers \n",
        "print(negative_value_count(test_1))\n",
        "print(negative_value_count(test_2))\n",
        "print(negative_value_count(test_3))\n",
        "print(negative_value_count(test_4))"
      ]
    },
    {
      "cell_type": "markdown",
      "metadata": {
        "id": "IV_0MpGnscrH"
      },
      "source": [
        "### Exercise 10:\n",
        "\n",
        "Create a function which returns the copy of the input tensor but with maximum value along each column set to `-1`.\n",
        "\n",
        "  For example:\n",
        "\n",
        "```\n",
        " x = torch.tensor([[\n",
        "        [12, 21, 1],\n",
        "        [ 4,  7,  20]\n",
        "      ]])\n",
        "```\n",
        "\n",
        "\n",
        "  Then `y = negative_max_column(x)` should be:\n",
        " \n",
        "  ```\n",
        "torch.tensor([\n",
        "    [-1, -1, 1],\n",
        "    [2,  5,  -1]\n",
        "  ])\n",
        "```\n",
        "\n",
        "\n",
        "Your code should not use any loops. Test your function with some examples."
      ]
    },
    {
      "cell_type": "code",
      "source": [
        "def negative_max_column(x):\n",
        "\n",
        "  # Get the index of the highest number in each row and replace it with -1\n",
        "  x[x == torch.max(x, dim=1, keepdim=True)[0]] = -1\n",
        "\n",
        "  # Return the final Tensor\n",
        "  return(x) \n",
        "\n",
        "# Test the function\n",
        "x = torch.tensor([\n",
        "        [-5, 6, 0],\n",
        "        [20, 8, 100],\n",
        "        [4, 4, 1]\n",
        "      ])\n",
        "print(negative_max_column(x))"
      ],
      "metadata": {
        "colab": {
          "base_uri": "https://localhost:8080/"
        },
        "id": "V84Zj97Dooyj",
        "outputId": "caef417e-6936-4ff7-b256-a2cd2ebf094d"
      },
      "execution_count": 146,
      "outputs": [
        {
          "output_type": "stream",
          "name": "stdout",
          "text": [
            "tensor([[-5, -1,  0],\n",
            "        [20,  8, -1],\n",
            "        [-1, -1,  1]])\n"
          ]
        }
      ]
    },
    {
      "cell_type": "markdown",
      "metadata": {
        "id": "TqTMByiGzY5M"
      },
      "source": [
        "### Exercise 11:\n",
        "\n",
        "Write a function to subtract the mean of each row from a 2D tensor. Your code should not use any loops. Test your function with some examples."
      ]
    },
    {
      "cell_type": "code",
      "execution_count": 149,
      "metadata": {
        "id": "iFSxG08czz-3",
        "colab": {
          "base_uri": "https://localhost:8080/"
        },
        "outputId": "795f40e5-d11c-4032-aa1a-5ef731828b23"
      },
      "outputs": [
        {
          "output_type": "execute_result",
          "data": {
            "text/plain": [
              "tensor([[ -1.,  -1.,   2.],\n",
              "        [  0., -50.,  50.],\n",
              "        [  1.,   1.,  -2.]])"
            ]
          },
          "metadata": {},
          "execution_count": 149
        }
      ],
      "source": [
        "def subtract_row_mean(x):\n",
        "\n",
        "  # Convert the tensor input into torch.float32\n",
        "  x = x.to(torch.float32)\n",
        "\n",
        "  # Get the mean\n",
        "  means = torch.mean(x, dim=1, keepdim=True)\n",
        "  result = x - means\n",
        "\n",
        "  # Return the results\n",
        "  return result\n",
        "\n",
        "# Test the function\n",
        "x = torch.tensor([\n",
        "        [3, 3, 6],\n",
        "        [50, 0, 100],\n",
        "        [4, 4, 1]\n",
        "      ])\n",
        "subtract_row_mean(x)"
      ]
    },
    {
      "cell_type": "markdown",
      "metadata": {
        "id": "VwTLS7_P54eZ"
      },
      "source": [
        "### Exercise 12:\n",
        "\n",
        "Feed a tensor with 3 or more dimensions to the `linalg.norm` function and observe its output. What does this function compute for tensors of arbitrary shape? Explain in a block below."
      ]
    },
    {
      "cell_type": "code",
      "execution_count": 171,
      "metadata": {
        "id": "vhnPvgz86AsK",
        "colab": {
          "base_uri": "https://localhost:8080/"
        },
        "outputId": "bc7f91a4-5fde-470b-85a2-e6a2fb48491c"
      },
      "outputs": [
        {
          "output_type": "stream",
          "name": "stdout",
          "text": [
            "16.881943016134134 5.385164807134504\n"
          ]
        }
      ],
      "source": [
        "test_tensor_1 = torch.tensor([[[1, 2, 3], [4, 5, 6], [7, 8, 9]]])\n",
        "test_tensor_2 = torch.tensor([[[2], [3], [4]]])\n",
        "\n",
        "test_1 = np.linalg.norm(test_tensor)\n",
        "test_2 = np.linalg.norm(test_tensor_2)\n",
        "\n",
        "print(test_1, test_2)"
      ]
    },
    {
      "cell_type": "markdown",
      "source": [
        "The function linalg.norm gives you the norm of the tensor. For the test_tensor_2 you can also compute it by hand by the following formular:"
      ],
      "metadata": {
        "id": "0C2pMXg12UTP"
      }
    },
    {
      "cell_type": "code",
      "source": [
        "norm_tensor_2 = math.sqrt(2**2 + 3**2 + 4**2)\n",
        "\n",
        "print(norm_tensor_2)"
      ],
      "metadata": {
        "colab": {
          "base_uri": "https://localhost:8080/"
        },
        "id": "8-M_4GUg29t_",
        "outputId": "536f89a0-2b66-4ff9-fec1-7fd906e7e271"
      },
      "execution_count": 172,
      "outputs": [
        {
          "output_type": "stream",
          "name": "stdout",
          "text": [
            "5.385164807134504\n"
          ]
        }
      ]
    },
    {
      "cell_type": "markdown",
      "metadata": {
        "id": "ON8rugsexuOY"
      },
      "source": [
        "### Exercise 13: \n",
        "\n",
        "Implement a function that takes in two $2 \\mathrm{D}$ tensors $A$ and $B$ and returns the column sum of A multiplied by the sum of all the elmements of $\\boldsymbol{B}$, i.e., a scalar, e.g.,\n",
        "If $A=\\left[\\begin{array}{ll}1 & 1 \\\\ 1 & 1\\end{array}\\right]$ and $B=\\left[\\begin{array}{lll}1 & 2 & 3 \\\\ 1 & 2 & 3\\end{array}\\right]$ then $O u t=\\left[\\begin{array}{ll}2 & 2\\end{array}\\right] \\cdot 12=\\left[\\begin{array}{ll}24 & 24\\end{array}\\right]$"
      ]
    },
    {
      "cell_type": "code",
      "execution_count": 6,
      "metadata": {
        "id": "S5YVpsJLx9fO",
        "colab": {
          "base_uri": "https://localhost:8080/"
        },
        "outputId": "36b5f71e-236b-457f-84ab-2966c3c1e4fd"
      },
      "outputs": [
        {
          "output_type": "stream",
          "name": "stdout",
          "text": [
            "tensor([24, 24])\n"
          ]
        }
      ],
      "source": [
        "def calculating(tens_1, tens_2):\n",
        "  col_sum = tens_1.sum(axis=0)\n",
        "  all_sum = tens_2.sum()\n",
        "  result = col_sum * all_sum\n",
        "  return result\n",
        "\n",
        "# Testing\n",
        "tens_1 = torch.tensor([[1, 1], [1, 1]])\n",
        "tens_2 = torch.tensor([[1, 2, 3], [1, 2, 3]])\n",
        "print(calculating(tens_1, tens_2))"
      ]
    },
    {
      "cell_type": "markdown",
      "metadata": {
        "id": "G9sRzXzKx_UP"
      },
      "source": [
        "### Exercise 14:\n",
        "\n",
        "Implement a function that takes in a square matrix $A$ and returns a $2 D$ tensor consisting of a flattened $A$ with the index of each element appended to this tensor in the row dimension, e.g.,\n",
        "If $A=\\left[\\begin{array}{cc}2 & 3 \\\\ -1 & 10\\end{array}\\right]$ then $O u t=\\left[\\begin{array}{cc}0 & 2 \\\\ 1 & 3 \\\\ 2 & -1 \\\\ 3 & 10\\end{array}\\right]$"
      ]
    },
    {
      "cell_type": "code",
      "execution_count": 11,
      "metadata": {
        "id": "gv0g3w5_yZzp",
        "colab": {
          "base_uri": "https://localhost:8080/"
        },
        "outputId": "649eea50-9e32-4f68-bce4-cd96e7555cc8"
      },
      "outputs": [
        {
          "output_type": "stream",
          "name": "stdout",
          "text": [
            "tensor([[0., 2.],\n",
            "        [1., 3.],\n",
            "        [2., 4.],\n",
            "        [3., 1.],\n",
            "        [4., 2.],\n",
            "        [5., 0.]])\n"
          ]
        }
      ],
      "source": [
        "def flatting(tens):\n",
        "  # Create a new empty flat tensor\n",
        "  length = tens.size(0) * tens.size(1)\n",
        "  flat_tensor = torch.zeros(length, 2)\n",
        "\n",
        "  # Reshape the input tensor\n",
        "  new_tensor = tens.reshape(-1, 1)\n",
        "\n",
        "  # Fill the flat_tensor with the right numbers\n",
        "  for i in range(0, len(new_tensor)):\n",
        "    flat_tensor[i, 0] = i\n",
        "    flat_tensor[i, 1] = new_tensor[i]\n",
        "\n",
        "  # Return the flat tensor\n",
        "  return flat_tensor\n",
        "\n",
        "# Test the function\n",
        "tens_test = torch.tensor([[2, 3, 4], [1, 2, 0]])\n",
        "print(flatting(tens_test))"
      ]
    },
    {
      "cell_type": "markdown",
      "metadata": {
        "id": "prm8Wx65xqC5"
      },
      "source": [
        "### Exercise 15:\n",
        "\n",
        "Implement a function that takes in two $2 D$ tensors $A$ and $B$. If the shapes allow it, this function returns the elementwise sum of $A$-shaped $B$, and $B$; else this function returns a 1D tensor that is the concatenation of the two tensors, e.g.,\n",
        "If $A=\\left[\\begin{array}{cc}1 & -1 \\\\ -1 & 3\\end{array}\\right]$ and $B=\\left[\\begin{array}{llll}2 & 3 & 0 & 2\\end{array}\\right]$ then $O u t=\\left[\\begin{array}{cc}3 & 2 \\\\ -1 & 5\\end{array}\\right]$\n",
        "If $A=\\left[\\begin{array}{cc}1 & -1 \\\\ -1 & 3\\end{array}\\right]$ and $B=\\left[\\begin{array}{ccc}2 & 3 & 0\\end{array}\\right]$ then $O u t=\\left[\\begin{array}{ccccccc}1 & -1 & -1 & 3 & 2 & 3 & 0\\end{array}\\right]$"
      ]
    },
    {
      "cell_type": "code",
      "execution_count": 73,
      "metadata": {
        "id": "di2J13g_zB9q",
        "colab": {
          "base_uri": "https://localhost:8080/"
        },
        "outputId": "7d11c36e-8ada-4055-a976-c3777719b015"
      },
      "outputs": [
        {
          "output_type": "stream",
          "name": "stdout",
          "text": [
            "tensor([[3, 2, 0],\n",
            "        [1, 9, 9]])\n",
            "tensor([[ 1., -1.,  0., -1.,  3.,  8.,  2.,  3.,  0.,  2.,  6.]])\n"
          ]
        }
      ],
      "source": [
        "def adding_tensors(tens_a, tens_b):\n",
        "\n",
        "  # Check if elementwise sum is possible\n",
        "  a_shape = tens_a.shape[0] * tens_a.shape[1]\n",
        "  new_shape_x = tens_a.shape[0]\n",
        "  new_shape_y = tens_a.shape[1]\n",
        "  b_shape = tens_b.shape[0] * tens_b.shape[1]\n",
        "  total_elements = tens_a.numel() + tens_b.numel()\n",
        "\n",
        "  # First we look at the case where can sum up the tensors\n",
        "  if a_shape == b_shape:\n",
        "    new_tens_a = tens_a.reshape(-1, 1)\n",
        "    new_tens_b = tens_b.reshape(-1, 1)\n",
        "    tens_sum = torch.zeros_like(new_tens_a)\n",
        "\n",
        "    # Fill in the new sum tensor\n",
        "    for i in range(0, len(tens_sum)):\n",
        "      tens_sum[i, 0] = new_tens_a[i, 0] + new_tens_b[i, 0]\n",
        "\n",
        "    # Reshape the sum tensor into the\n",
        "    final_tensor = tens_sum.view(new_shape_x, new_shape_y)\n",
        "\n",
        "    # Return the final tensor\n",
        "    return final_tensor \n",
        "\n",
        "  # Now we look at the case where we can not sum up the tensors\n",
        "  else:\n",
        "    tens_concat = torch.zeros(1, total_elements)\n",
        "    new_tens_a = tens_a.reshape(-1, 1)\n",
        "    new_tens_b = tens_b.reshape(-1, 1)\n",
        "\n",
        "    # Fill in the concated tensor\n",
        "    for i in range(0, len(new_tens_a)):\n",
        "      tens_concat[0, i] = new_tens_a[i, 0]\n",
        "\n",
        "    # Fille the rest of the tensor\n",
        "    for j in range(0, len(new_tens_b)):\n",
        "      tens_concat[0, j+len(new_tens_a)] = new_tens_b[j, 0]\n",
        "\n",
        "    # Return the concat tensor\n",
        "    return tens_concat\n",
        "    # You could have done this moreeasily mwith the torch.cat function but first\n",
        "    # fuoond this function for the next exercise 16 \n",
        "\n",
        "# Testing\n",
        "tens_a = torch.tensor([[1, -1, 0], [-1, 3, 8]])\n",
        "tens_b1 = torch.tensor([[2, 3, 0, 2, 6, 1]])\n",
        "tens_b2 = torch.tensor([[2, 3, 0, 2, 6]])\n",
        "print(adding_tensors(tens_a, tens_b1))\n",
        "print(adding_tensors(tens_a, tens_b2))"
      ]
    },
    {
      "cell_type": "markdown",
      "metadata": {
        "id": "a0AW0MgM2IeW"
      },
      "source": [
        "### Exercise 16:\n",
        "\n",
        "You are given a tensor `samples` with 12 sequences of length 15. Adapt the code below to add a `new_sample` to `samples` tensor.\n",
        "\n"
      ]
    },
    {
      "cell_type": "code",
      "execution_count": 80,
      "metadata": {
        "id": "lP6teQMI2H-C",
        "colab": {
          "base_uri": "https://localhost:8080/"
        },
        "outputId": "70706c74-a241-43be-e85c-88080c8bfb01"
      },
      "outputs": [
        {
          "output_type": "stream",
          "name": "stdout",
          "text": [
            "torch.Size([12, 15])\n",
            "torch.Size([15])\n",
            "torch.Size([1, 15])\n",
            "tensor([[ 0.8692,  0.4798,  1.7620, -0.5273,  0.8023, -1.0035,  0.4858, -0.1245,\n",
            "         -1.4186, -0.4869, -0.4641, -0.6825,  1.0854, -0.9171,  0.9195],\n",
            "        [ 0.6035, -1.0048,  0.1273,  1.5917, -1.4748,  1.3962,  0.3759,  0.4867,\n",
            "         -0.5399, -0.1316,  0.7990,  2.2111, -0.9914,  1.5737, -0.7088],\n",
            "        [-1.3899,  0.6104, -1.7166, -0.6491, -0.9362, -0.0570, -0.1140,  1.6026,\n",
            "         -1.5066, -1.0311,  1.5456,  0.1848, -1.1323, -0.9292, -0.2605],\n",
            "        [ 1.3570, -0.1201,  0.2566, -2.5837,  0.7024,  1.1374, -0.7480, -0.2946,\n",
            "          0.9297, -1.4341, -0.8775,  0.3319,  0.0516, -0.3249, -1.4504],\n",
            "        [-0.3523, -0.7819,  0.7784, -1.1638, -0.0971, -0.5833,  0.6377, -0.2592,\n",
            "         -0.6780,  0.3029,  0.6258, -0.3905, -0.2525, -0.7246, -0.9434],\n",
            "        [ 0.1539,  1.4968,  1.6162,  0.9356,  0.0333, -0.1838,  0.5032,  0.3025,\n",
            "          1.5395, -1.2316,  1.1894,  0.1300,  1.8164, -0.0043,  1.1616],\n",
            "        [-0.1243,  0.2841, -0.2374, -0.1297, -0.1106, -0.2944,  0.5266,  0.0793,\n",
            "          0.8020, -0.0194,  0.4207,  0.1047, -0.7260,  0.2334,  0.4039],\n",
            "        [ 0.8421,  0.0657,  0.3750,  0.6114,  1.4428, -0.1515,  0.2550,  1.6111,\n",
            "         -0.3738, -0.7012,  0.7448, -0.9130, -0.3932,  1.2255,  1.1097],\n",
            "        [ 1.0595, -0.1910,  0.7890,  0.9632, -0.0244,  0.7211, -0.1127,  0.7737,\n",
            "         -1.5392, -0.9316, -0.6194,  1.0278, -0.5478, -0.4124,  0.4556],\n",
            "        [ 1.6831, -0.1555, -0.5572,  0.2279,  0.6065,  1.5618,  1.1074, -0.0099,\n",
            "         -1.1598,  1.3271, -1.0542, -0.0814, -0.2170,  0.3970, -0.1738],\n",
            "        [-0.3026,  0.7644, -0.1999,  1.6105, -0.5875, -0.4269, -0.5893, -0.3000,\n",
            "         -0.6826,  0.1895,  1.3611,  0.7240,  0.4967,  1.7481, -0.5305],\n",
            "        [-0.2953,  0.5239,  1.1427, -0.3432,  0.5599, -1.0283, -1.2431,  0.0808,\n",
            "          0.5219,  0.5188, -0.2739,  0.9703,  0.6498, -1.0053, -0.7424],\n",
            "        [-0.9412,  0.2022,  0.1508,  0.5117, -1.7251,  0.5660,  2.2837, -0.0290,\n",
            "          0.6613, -1.4066, -0.1830, -0.0919,  0.5800,  0.6286,  0.9290]])\n",
            "torch.Size([13, 15])\n"
          ]
        }
      ],
      "source": [
        "samples = torch.randn(size=(12, 15))\n",
        "new_sample = torch.randn(size=(15,))\n",
        "\n",
        "# Have a look at the shapes of the tensors\n",
        "print(samples.shape)\n",
        "print(new_sample.shape)\n",
        "\n",
        "# Add a dimension to the second tensor\n",
        "new_sample = new_sample.unsqueeze(0)\n",
        "print(new_sample.shape)\n",
        "\n",
        "# Now we can simply add the second tensor to the first one\n",
        "samples = torch.cat((samples, new_sample), dim=0)\n",
        "print(samples)\n",
        "print(samples.shape)"
      ]
    },
    {
      "cell_type": "markdown",
      "metadata": {
        "id": "ZHbGP9G6zqp5"
      },
      "source": [
        "### Exercise 17:\n",
        "\n",
        "Suppose you have a tensor `images_tensor` containing  a batch of `n_batch` number of images of resolution: 30x30 pixels. `images_tensor` is thus of shape `(n_batch, 1, 30, 30)`\n",
        "\n",
        "Write a function `flatten_images` that convert `images_tensor` into a tensor containing flattened images (i.e. a tensor of shape: `(n_batch, 1*30*30)`."
      ]
    },
    {
      "cell_type": "code",
      "execution_count": 6,
      "metadata": {
        "id": "l-nkDUOV0qEb",
        "colab": {
          "base_uri": "https://localhost:8080/"
        },
        "outputId": "afcfdf3f-7b8e-4105-c081-f320cd188696"
      },
      "outputs": [
        {
          "output_type": "stream",
          "name": "stdout",
          "text": [
            "tensor([[ 0.4969,  0.6767,  1.3633,  ..., -0.8127,  0.2967,  1.7618],\n",
            "        [-0.2976,  0.6715, -0.9659,  ...,  1.4803, -0.8325,  0.4205],\n",
            "        [-0.2684,  0.8304, -0.3545,  ...,  0.4585,  0.4029,  1.3103],\n",
            "        [-0.8754,  0.3683,  0.5117,  ..., -0.9119, -1.0430,  1.3200],\n",
            "        [-0.7330, -0.6086, -0.7669,  ..., -1.3722,  1.0472,  1.8883]])\n"
          ]
        }
      ],
      "source": [
        "# At first I create an examle tensor images_tensor with n_batch = 5\n",
        "n_batch = 5\n",
        "images_tensor = torch.randn(n_batch, 1, 30, 30)\n",
        "\n",
        "# Have a look at the example tensor\n",
        "#print(images_tensor, images_tensor.shape)\n",
        "\n",
        "# write the function flatten_images\n",
        "def flatten_images(im):\n",
        "\n",
        "  # Get the number of batches\n",
        "  number_batches = images_tensor.shape[0]\n",
        "\n",
        "  # Get the size of the second dimension, all pixels per batch in one row\n",
        "  number_pixels = images_tensor.shape[1] * images_tensor.shape[2] * images_tensor.shape[3]\n",
        "\n",
        "  # Use the view method to transform the tensor\n",
        "  flatten_tensor = images_tensor.view(number_batches, number_pixels)\n",
        "\n",
        "  # Now every picture has its own row \n",
        "  return flatten_tensor\n",
        "\n",
        "# Test the function\n",
        "print(flatten_images(images_tensor))"
      ]
    }
  ],
  "metadata": {
    "colab": {
      "provenance": [],
      "include_colab_link": true
    },
    "kernelspec": {
      "display_name": "Python 3",
      "name": "python3"
    },
    "language_info": {
      "name": "python"
    },
    "accelerator": "GPU",
    "gpuClass": "standard"
  },
  "nbformat": 4,
  "nbformat_minor": 0
}